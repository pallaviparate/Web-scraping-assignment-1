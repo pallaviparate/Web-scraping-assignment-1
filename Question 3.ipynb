{
 "cells": [
  {
   "cell_type": "markdown",
   "metadata": {},
   "source": [
    "# Write a python program to display IMDB’s Top rated 100 Indian movies’ data (i.e. \n",
    "Name, IMDB rating, Year of release) and save it in form of a CSV file."
   ]
  },
  {
   "cell_type": "code",
   "execution_count": 28,
   "metadata": {
    "collapsed": true
   },
   "outputs": [],
   "source": [
    "import lxml\n",
    "import re\n",
    "import numpy as np\n",
    "import pandas as pd"
   ]
  },
  {
   "cell_type": "code",
   "execution_count": 29,
   "metadata": {
    "collapsed": true
   },
   "outputs": [],
   "source": [
    "from bs4 import BeautifulSoup\n",
    "from requests import get\n"
   ]
  },
  {
   "cell_type": "code",
   "execution_count": 33,
   "metadata": {
    "collapsed": true
   },
   "outputs": [],
   "source": [
    "url1 = \"https://www.imdb.com/search/title?count=100&title_type=feature,tv_series&ref_=nv_wl_img_2\""
   ]
  },
  {
   "cell_type": "code",
   "execution_count": 46,
   "metadata": {
    "collapsed": true
   },
   "outputs": [
    {
     "name": "stdout",
     "output_type": "stream",
     "text": [
      "Subject:  Feature Film/TV Series(Sorted by Popularity Ascending) \n"
     ]
    },
    {
     "ename": "AttributeError",
     "evalue": "'IMDB' object has no attribute 'bodyContent'",
     "output_type": "error",
     "traceback": [
      "\u001b[1;31m---------------------------------------------------------------------------\u001b[0m",
      "\u001b[1;31mAttributeError\u001b[0m                            Traceback (most recent call last)",
      "\u001b[1;32m<ipython-input-46-890cc726fe16>\u001b[0m in \u001b[0;36m<module>\u001b[1;34m\u001b[0m\n\u001b[0;32m     80\u001b[0m         \u001b[0msite1\u001b[0m \u001b[1;33m=\u001b[0m \u001b[0mIMDB\u001b[0m\u001b[1;33m(\u001b[0m\u001b[0murl1\u001b[0m\u001b[1;33m)\u001b[0m\u001b[1;33m\u001b[0m\u001b[1;33m\u001b[0m\u001b[0m\n\u001b[0;32m     81\u001b[0m         \u001b[0mprint\u001b[0m\u001b[1;33m(\u001b[0m\u001b[1;34m\"Subject: \"\u001b[0m\u001b[1;33m,\u001b[0m \u001b[0msite1\u001b[0m\u001b[1;33m.\u001b[0m\u001b[0marticleTitle\u001b[0m\u001b[1;33m(\u001b[0m\u001b[1;33m)\u001b[0m\u001b[1;33m)\u001b[0m\u001b[1;33m\u001b[0m\u001b[1;33m\u001b[0m\u001b[0m\n\u001b[1;32m---> 82\u001b[1;33m         \u001b[0mdata\u001b[0m \u001b[1;33m=\u001b[0m \u001b[0msite1\u001b[0m\u001b[1;33m.\u001b[0m\u001b[0mmovieData\u001b[0m\u001b[1;33m(\u001b[0m\u001b[1;33m)\u001b[0m\u001b[1;33m\u001b[0m\u001b[1;33m\u001b[0m\u001b[0m\n\u001b[0m\u001b[0;32m     83\u001b[0m         \u001b[1;32mfor\u001b[0m \u001b[0mi\u001b[0m \u001b[1;32min\u001b[0m \u001b[0mrange\u001b[0m\u001b[1;33m(\u001b[0m\u001b[0mlen\u001b[0m\u001b[1;33m(\u001b[0m\u001b[0mdata\u001b[0m\u001b[1;33m)\u001b[0m\u001b[1;33m)\u001b[0m\u001b[1;33m:\u001b[0m\u001b[1;33m\u001b[0m\u001b[1;33m\u001b[0m\u001b[0m\n\u001b[0;32m     84\u001b[0m              \u001b[0mprint\u001b[0m\u001b[1;33m(\u001b[0m\u001b[0mdata\u001b[0m\u001b[1;33m[\u001b[0m\u001b[0mi\u001b[0m\u001b[1;33m]\u001b[0m\u001b[1;33m[\u001b[0m\u001b[1;33m:\u001b[0m\u001b[1;33m]\u001b[0m\u001b[1;33m)\u001b[0m\u001b[1;33m\u001b[0m\u001b[1;33m\u001b[0m\u001b[0m\n",
      "\u001b[1;32m<ipython-input-46-890cc726fe16>\u001b[0m in \u001b[0;36mmovieData\u001b[1;34m(self)\u001b[0m\n\u001b[0;32m     14\u001b[0m \u001b[1;33m\u001b[0m\u001b[0m\n\u001b[0;32m     15\u001b[0m         \u001b[1;32mdef\u001b[0m \u001b[0mmovieData\u001b[0m\u001b[1;33m(\u001b[0m\u001b[0mself\u001b[0m\u001b[1;33m)\u001b[0m\u001b[1;33m:\u001b[0m\u001b[1;33m\u001b[0m\u001b[1;33m\u001b[0m\u001b[0m\n\u001b[1;32m---> 16\u001b[1;33m                 \u001b[0mmovieFrame\u001b[0m \u001b[1;33m=\u001b[0m \u001b[0mself\u001b[0m\u001b[1;33m.\u001b[0m\u001b[0mbodyContent\u001b[0m\u001b[1;33m(\u001b[0m\u001b[1;33m)\u001b[0m\u001b[1;33m\u001b[0m\u001b[1;33m\u001b[0m\u001b[0m\n\u001b[0m\u001b[0;32m     17\u001b[0m                 \u001b[0mmovieTitle\u001b[0m \u001b[1;33m=\u001b[0m \u001b[1;33m[\u001b[0m\u001b[1;33m]\u001b[0m\u001b[1;33m\u001b[0m\u001b[1;33m\u001b[0m\u001b[0m\n\u001b[0;32m     18\u001b[0m                 \u001b[0mmovieDate\u001b[0m \u001b[1;33m=\u001b[0m \u001b[1;33m[\u001b[0m\u001b[1;33m]\u001b[0m\u001b[1;33m\u001b[0m\u001b[1;33m\u001b[0m\u001b[0m\n",
      "\u001b[1;31mAttributeError\u001b[0m: 'IMDB' object has no attribute 'bodyContent'"
     ]
    }
   ],
   "source": [
    "class IMDB(object):\n",
    "        \"\"\"docstring for IMDB\"\"\"\n",
    "        def __init__(self, url):\n",
    "            super(IMDB, self).__init__()\n",
    "            page = get(url)\n",
    "            \n",
    "            self.soup = BeautifulSoup(page.content, 'lxml')\n",
    "            \n",
    "        def articleTitle(self):\n",
    "                return self.soup.find(\"h1\", class_=\"header\").text.replace(\"\\n\",\"\")   \n",
    "            \n",
    "        def articleTitle(self):\n",
    "                return self.soup.find(\"h1\", class_=\"header\").text.replace(\"\\n\",\"\")\n",
    "            \n",
    "        def movieData(self):\n",
    "                movieFrame = self.bodyContent()\n",
    "                movieTitle = []\n",
    "                movieDate = []\n",
    "                movieRunTime = []\n",
    "                movieGenre = []\n",
    "                movieRating = []\n",
    "                movieScore = []\n",
    "                movieDescription = []\n",
    "                movieDirector = []\n",
    "                movieStars = []\n",
    "                movieVotes = []\n",
    "                movieGross = []\n",
    "                for movie in movieFrame:    \n",
    "                        movieFirstLine = movie.find(\"h3\", class_=\"lister-item-header\")\n",
    "                        movieTitle.append(movieFirstLine.find(\"a\").text)\n",
    "                        movieDate.append(re.sub(r\"[()]\",\"\", movieFirstLine.find_all(\"span\")[-1].text))\n",
    "                        \n",
    "                        try:\n",
    "                                movieRunTime.append(movie.find(\"span\", class_=\"runtime\").text[:-4])\n",
    "                                \n",
    "                        except:\n",
    "                                movieRunTime.append(np.nan)\n",
    "                        movieGenre.append(movie.find(\"span\", class_=\"genre\").text.rstrip().replace(\"\\n\",\"\").split(\",\"))\n",
    "                        \n",
    "                        try:\n",
    "                                movieRating.append(movie.find(\"strong\").text)\n",
    "                        except:\n",
    "                                movieRating.append(np.nan)\n",
    "                        try:\n",
    "                                movieScore.append(movie.find(\"span\", class_=\"metascore unfavorable\").text.rstrip())\n",
    "                                \n",
    "                        except:\n",
    "                                movieScore.append(np.nan)\n",
    "                        movieDescription.append(movie.find_all(\"p\", class_=\"text-muted\")[-1].text.lstrip())\n",
    "                        movieCast = movie.find(\"p\", class_=\"\")\n",
    "\n",
    "                        try:\n",
    "                                casts = movieCast.text.replace(\"\\n\",\"\").split('|')\n",
    "                                casts = [x.strip() for x in casts]\n",
    "                                casts = [casts[i].replace(j, \"\") for i,j in enumerate([\"Director:\", \"Stars:\"])]\n",
    "                                movieDirector.append(casts[0])\n",
    "                                movieStars.append([x.strip() for x in casts[1].split(\",\")])\n",
    "                        except:\n",
    "                                casts = movieCast.text.replace(\"\\n\",\"\").strip()\n",
    "                                movieDirector.append(np.nan)\n",
    "                                movieStars.append([x.strip() for x in casts.split(\",\")])\n",
    "\n",
    "                        movieNumbers = movie.find_all(\"span\", attrs={\"name\": \"nv\"})\n",
    "\n",
    "                        if len(movieNumbers) == 2:\n",
    "                                movieVotes.append(movieNumbers[0].text)\n",
    "                                movieGross.append(movieNumbers[1].text)\n",
    "                        elif len(movieNumbers) == 1:\n",
    "                                movieVotes.append(movieNumbers[0].text)\n",
    "                                movieGross.append(np.nan)\n",
    "                        else:\n",
    "                                movieVotes.append(np.nan)\n",
    "                                movieGross.append(np.nan)\n",
    "\n",
    "                movieData = [movieTitle, movieDate, movieRunTime, movieGenre, movieRating, movieScore, movieDescription,\n",
    "                                                    movieDirector, movieStars, movieVotes, movieGross]\n",
    "                return movieData\n",
    "            \n",
    "if __name__ == '__main__':\n",
    "        site1 = IMDB(url1)\n",
    "        print(\"Subject: \", site1.articleTitle())\n",
    "        data = site1.movieData()\n",
    "        for i in range(len(data)):\n",
    "             print(data[i][:])            "
   ]
  },
  {
   "cell_type": "code",
   "execution_count": 20,
   "metadata": {
    "collapsed": true
   },
   "outputs": [],
   "source": []
  },
  {
   "cell_type": "code",
   "execution_count": null,
   "metadata": {
    "collapsed": true
   },
   "outputs": [],
   "source": []
  },
  {
   "cell_type": "code",
   "execution_count": 27,
   "metadata": {
    "collapsed": true
   },
   "outputs": [],
   "source": []
  },
  {
   "cell_type": "code",
   "execution_count": null,
   "metadata": {
    "collapsed": true
   },
   "outputs": [],
   "source": []
  }
 ],
 "metadata": {
  "kernelspec": {
   "display_name": "Python 3",
   "language": "python",
   "name": "python3"
  },
  "language_info": {
   "codemirror_mode": {
    "name": "ipython",
    "version": 3
   },
   "file_extension": ".py",
   "mimetype": "text/x-python",
   "name": "python",
   "nbconvert_exporter": "python",
   "pygments_lexer": "ipython3",
   "version": "3.8.5"
  }
 },
 "nbformat": 4,
 "nbformat_minor": 4
}

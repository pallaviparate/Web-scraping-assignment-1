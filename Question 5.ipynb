{
 "cells": [
  {
   "cell_type": "markdown",
   "metadata": {},
   "source": [
    "Write a python program to scrape cricket rankings from ‘www.icc-cricket.com’. You \n",
    "have to scrape:\n",
    "i) Top 10 ODI teams in men’s cricket along with the records for matches, points and \n",
    "rating. \n",
    "ii) Top 10 ODI Batsmen in men along with the records of their team and rating. \n",
    "iii)Top 10 ODI bowlers along with the records of their team and rating"
   ]
  },
  {
   "cell_type": "code",
   "execution_count": 2,
   "metadata": {},
   "outputs": [],
   "source": [
    "import requests\n",
    "from bs4 import BeautifulSoup\n",
    "import re\n",
    "import csv\n",
    "import sqlite3\n",
    "from IPython.display import display,HTML"
   ]
  },
  {
   "cell_type": "code",
   "execution_count": 3,
   "metadata": {},
   "outputs": [
    {
     "name": "stdout",
     "output_type": "stream",
     "text": [
      "<class 'requests.models.Response'>\n"
     ]
    }
   ],
   "source": [
    "url='http://www.espncricinfo.com/icc-cricket-world-cup-2015/content/current/series/509587.html'\n",
    "page=requests.get(url)\n",
    "print(type(page))"
   ]
  },
  {
   "cell_type": "code",
   "execution_count": 4,
   "metadata": {},
   "outputs": [
    {
     "name": "stdout",
     "output_type": "stream",
     "text": [
      "http://www.espncricinfo.com/icc-cricket-world-cup-2015/content/current/series/509587.html \n",
      "Webpage current status code ---> 200\n",
      ">>>The response status code of webpage indicates \"ACTIVE\" state\n"
     ]
    }
   ],
   "source": [
    "print('{} \\nWebpage current status code ---> {}'.format(url,page.status_code))\n",
    "if page.status_code == requests.codes.ok:\n",
    "    print('>>>The response status code of webpage indicates \"ACTIVE\" state')"
   ]
  },
  {
   "cell_type": "code",
   "execution_count": 5,
   "metadata": {},
   "outputs": [],
   "source": [
    "page_html = page.text\n",
    "soup=BeautifulSoup(page_html,\"html.parser\")"
   ]
  },
  {
   "cell_type": "code",
   "execution_count": null,
   "metadata": {},
   "outputs": [],
   "source": []
  },
  {
   "cell_type": "code",
   "execution_count": 31,
   "metadata": {},
   "outputs": [
    {
     "ename": "SyntaxError",
     "evalue": "invalid syntax (<ipython-input-31-41cc2ec98e08>, line 1)",
     "output_type": "error",
     "traceback": [
      "\u001b[1;36m  File \u001b[1;32m\"<ipython-input-31-41cc2ec98e08>\"\u001b[1;36m, line \u001b[1;32m1\u001b[0m\n\u001b[1;33m    <li><a name=\"&amp;lpos=quicklink_Squads\" href=\"/icc-cricket-world-cup-2015/content/squad?object=509587\">Squads</a>\u001b[0m\n\u001b[1;37m    ^\u001b[0m\n\u001b[1;31mSyntaxError\u001b[0m\u001b[1;31m:\u001b[0m invalid syntax\n"
     ]
    }
   ],
   "source": [
    "<li><a name=\"&amp;lpos=quicklink_Squads\" href=\"/icc-cricket-world-cup-2015/content/squad?object=509587\">Squads</a>\n",
    "\n",
    "<div class=\"dd_wrap\">\n",
    " <ul class=\"subnav_grp\">\n",
    "    <li class=\"subnav_grpitm\">\n",
    "    <ul class=\"subnav_tire2\">\n",
    "        <li class=\"sub_nav_item\">...</li>\n",
    "        <li class=\"sub_nav_item\">\n",
    "        <a name=\"&amp;lpos=quicklink_Australia\" href=\"/icc-cricket-world-cup-2015/content/squad/819741.html\">Australia</a>\n",
    "        </li>\n",
    "        <li class=\"sub_nav_item\">\n",
    "             <a name=\"&amp;lpos=quicklink_Bangladesh\" href=\"/icc-cricket-world-cup-2015/content/squad/816431.html\">Bangladesh</a>\n",
    "        </li>\n",
    "        <li class=\"sub_nav_item\">\n",
    "        \n",
    "         <a name=\"&amp;lpos=quicklink_England\" href=\"/icc-cricket-world-cup-2015/content/squad/812413.html\">England</a>\n",
    "        </li>\n",
    "    <li class=\"sub_nav_item\">\n",
    "         <a name=\"&amp;lpos=quicklink_India\" href=\"/icc-cricket-world-cup-2015/content/squad/817409.html\">India</a>\n",
    "    </li>\n",
    "    <li class=\"sub_nav_item\">...</li>\n",
    "    <li class=\"sub_nav_item\">...</li>                        \n",
    "    <li class=\"sub_nav_item\">...</li>\n",
    "    </ul>\n",
    "     </li>\n",
    "        </ul>\n",
    "           </div>\n",
    "        </li>"
   ]
  },
  {
   "cell_type": "code",
   "execution_count": 10,
   "metadata": {},
   "outputs": [],
   "source": [
    "country_refs=soup.find_all('a',href=re.compile('/icc-cricket-world-cup-2015/content/squad/'))\n",
    "for link in country_refs:\n",
    "    print(link)"
   ]
  },
  {
   "cell_type": "code",
   "execution_count": 32,
   "metadata": {},
   "outputs": [
    {
     "data": {
      "text/plain": [
       "<sqlite3.Cursor at 0x23ae8a96570>"
      ]
     },
     "execution_count": 32,
     "metadata": {},
     "output_type": "execute_result"
    }
   ],
   "source": [
    "conn=sqlite3.connect('Cricket.sqlite')\n",
    "cur=conn.cursor()\n",
    "\n",
    "cur.execute('''CREATE TABLE IF NOT EXISTS Countries\n",
    "            (country_id INTEGER PRIMARY KEY,country TEXT)''')\n",
    "\n",
    "cur.execute('''CREATE TABLE IF NOT EXISTS Players\n",
    "            (country_id INTEGER,player_id INTEGER UNIQUE,player TEXT)''')\n",
    "\n",
    "cur.execute('''CREATE TABLE IF NOT EXISTS Batting_Stats\n",
    "                        (player TEXT,runs INTEGER,sixes INTEGER,fours INTEGER,ducks INTEGER,fifties INTEGER,hundreds INTEGER,balls_faced INTEGER,innings INTEGER)''')\n",
    "cur.execute('''CREATE TABLE IF NOT EXISTS Bowling_Stats\n",
    "                        (player TEXT,bowlinnings INTEGER ,overs INTEGER ,runsgiven INTEGER,maidens INTEGER,wickets INTEGER,fourw INTEGER,fivew INTEGER)''')"
   ]
  },
  {
   "cell_type": "code",
   "execution_count": 33,
   "metadata": {},
   "outputs": [],
   "source": [
    "for country_ref in country_refs:\n",
    "    country=country_ref.text\n",
    "    country_id=country_ref.get('href').split('/')[-1].split('.')[0]\n",
    "    cur.execute('INSERT OR IGNORE INTO Countries (country_id,country) VALUES (?,?)',(country_id,country))"
   ]
  },
  {
   "cell_type": "code",
   "execution_count": 34,
   "metadata": {},
   "outputs": [],
   "source": [
    "cur.execute('SELECT country_id FROM Countries')\n",
    "countryid_list=list()\n",
    "for row in cur:\n",
    "    countryid_list.append(row[0])"
   ]
  },
  {
   "cell_type": "code",
   "execution_count": 35,
   "metadata": {},
   "outputs": [],
   "source": [
    "cur.execute('SELECT country_id FROM Countries')\n",
    "countryid_list=list()\n",
    "for row in cur:\n",
    "    countryid_list.append(row[0])"
   ]
  },
  {
   "cell_type": "code",
   "execution_count": 36,
   "metadata": {},
   "outputs": [],
   "source": [
    "cur.execute('select a.country_id,a.country,b.player_id,b.player from Countries a,Players b where a.country_id=b.country_id')\n",
    "play_list=list()\n",
    "for row in cur:\n",
    "    play_list.append(row)\n",
    "play_action=['batting','bowling']"
   ]
  },
  {
   "cell_type": "code",
   "execution_count": 37,
   "metadata": {},
   "outputs": [
    {
     "ename": "SyntaxError",
     "evalue": "invalid syntax (<ipython-input-37-3f4796340e13>, line 1)",
     "output_type": "error",
     "traceback": [
      "\u001b[1;36m  File \u001b[1;32m\"<ipython-input-37-3f4796340e13>\"\u001b[1;36m, line \u001b[1;32m1\u001b[0m\n\u001b[1;33m    <tr class=\"data1\">\u001b[0m\n\u001b[1;37m    ^\u001b[0m\n\u001b[1;31mSyntaxError\u001b[0m\u001b[1;31m:\u001b[0m invalid syntax\n"
     ]
    }
   ],
   "source": [
    "<tr class=\"data1\">  \n",
    "  <td class=\"left\">filtered</td>  \n",
    "    <td>20</td>  \n",
    "    <td>17</td>  \n",
    "    <td>3</td>  \n",
    "    <td>640</td> --------->Runs Scored  \n",
    "    <td>92*</td> --------->High Score  \n",
    "    <td>45.71</td>--------->Average  \n",
    "    <td>737</td>  \n",
    "    <td>86.83</td>  \n",
    "    <td>0</td>  \n",
    "    <td>4</td>  \n",
    "    <td>0</td>  \n",
    "    <td>50</td>  \n",
    "    <td>11</td>  \n",
    "    <td></td>  \n",
    "    </tr>  "
   ]
  }
 ],
 "metadata": {
  "kernelspec": {
   "display_name": "Python 3",
   "language": "python",
   "name": "python3"
  },
  "language_info": {
   "codemirror_mode": {
    "name": "ipython",
    "version": 3
   },
   "file_extension": ".py",
   "mimetype": "text/x-python",
   "name": "python",
   "nbconvert_exporter": "python",
   "pygments_lexer": "ipython3",
   "version": "3.8.5"
  }
 },
 "nbformat": 4,
 "nbformat_minor": 4
}

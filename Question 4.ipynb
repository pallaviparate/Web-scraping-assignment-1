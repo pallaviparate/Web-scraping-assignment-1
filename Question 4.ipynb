{
 "cells": [
  {
   "cell_type": "markdown",
   "metadata": {},
   "source": [
    "# Write a python program to scrap book name, author name, genre and book review of\n",
    "any 5 books from ‘www.bookpage.com’\n"
   ]
  },
  {
   "cell_type": "code",
   "execution_count": 44,
   "metadata": {},
   "outputs": [],
   "source": [
    "from bs4 import BeautifulSoup\n",
    "import requests\n",
    "import csv\n",
    "import urllib\n",
    "import os"
   ]
  },
  {
   "cell_type": "code",
   "execution_count": null,
   "metadata": {},
   "outputs": [],
   "source": []
  },
  {
   "cell_type": "code",
   "execution_count": null,
   "metadata": {},
   "outputs": [],
   "source": []
  },
  {
   "cell_type": "code",
   "execution_count": null,
   "metadata": {},
   "outputs": [],
   "source": [
    "\n"
   ]
  },
  {
   "cell_type": "code",
   "execution_count": null,
   "metadata": {},
   "outputs": [],
   "source": []
  },
  {
   "cell_type": "code",
   "execution_count": null,
   "metadata": {},
   "outputs": [],
   "source": []
  },
  {
   "cell_type": "code",
   "execution_count": 45,
   "metadata": {},
   "outputs": [
    {
     "name": "stdout",
     "output_type": "stream",
     "text": [
      "Enter the genre (or quit to stop): quit\n"
     ]
    }
   ],
   "source": [
    "def scrape_and_run(genre):\n",
    "    # scrape on goodreads.com using desire genre type or key word\n",
    "    # and save the titles and autors in a csv file\n",
    "    page = requests.get(\"https://www.bookpage.com\" + genre)\n",
    "    soup = bs(page.content, 'html.parser')\n",
    "    titles = soup.find_all('a', class_='bookTitle')\n",
    "    authors = soup.find_all('a', class_='authorName')\n",
    "    \n",
    "    \n",
    "    image_dir = os.getcwd() + \"/images/\" + genre\n",
    "\n",
    "    if not os.path.exists(image_dir):\n",
    "        os.makedirs(image_dir)\n",
    "        \n",
    "    with open(genre + '.csv', 'w') as csvfile:\n",
    "        fieldnames = ['title', 'author']\n",
    "        csv_write = csv.DictWriter(csvfile, fieldnames=fieldnames)\n",
    "        books_save = 0\n",
    "        for title, author in zip(titles, authors):\n",
    "            try:\n",
    "                ## single book page\n",
    "                book_page = requests.get(\"https://www.bookpage.com\" + title['href'])\n",
    "                soup = bs(book_page.content, 'html.parser')\n",
    "                # get image id\n",
    "                image = soup.find('img', id='coverImage')\n",
    "\n",
    "                title_name = title.get_text()\n",
    "                save_dir = image_dir + \"/\" + title_name\n",
    "                urllib.request.urlretrieve(image['src'], save_dir)\n",
    "                \n",
    "                csv_write.writerow({'title': title_name, 'author': author.get_text()})\n",
    "                books_save += 1\n",
    "                ## error handelling for long file names\n",
    "\n",
    "            except OSError as exc:\n",
    "                if exc.errno == 36:\n",
    "                    print(exc)\n",
    "        print(\"%d %s books saved.\" % (books_save, genre)) # books count feedback\n",
    "        \n",
    "if __name__ == '__main__':\n",
    "    \n",
    "    ## run ifinite till user tells you to stop\n",
    "    ## to avoid having to compile again and again\n",
    "    while True:\n",
    "        genre = input(\"Enter the genre (or quit to stop): \").lower() # input case lowered\n",
    "        if(genre == \"quit\"):\n",
    "            break\n",
    "        else:\n",
    "            scrape_and_run(genre)"
   ]
  }
 ],
 "metadata": {
  "kernelspec": {
   "display_name": "Python 3",
   "language": "python",
   "name": "python3"
  },
  "language_info": {
   "codemirror_mode": {
    "name": "ipython",
    "version": 3
   },
   "file_extension": ".py",
   "mimetype": "text/x-python",
   "name": "python",
   "nbconvert_exporter": "python",
   "pygments_lexer": "ipython3",
   "version": "3.8.5"
  }
 },
 "nbformat": 4,
 "nbformat_minor": 4
}
